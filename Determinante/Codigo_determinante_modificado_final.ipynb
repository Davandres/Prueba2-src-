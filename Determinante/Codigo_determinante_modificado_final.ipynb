{
  "nbformat": 4,
  "nbformat_minor": 0,
  "metadata": {
    "colab": {
      "provenance": []
    },
    "kernelspec": {
      "name": "python3",
      "display_name": "Python 3"
    },
    "language_info": {
      "name": "python"
    }
  },
  "cells": [
    {
      "cell_type": "markdown",
      "source": [
        "CODIGO MODIFICADO"
      ],
      "metadata": {
        "id": "PlhnHAEtreNV"
      }
    },
    {
      "cell_type": "code",
      "execution_count": 5,
      "metadata": {
        "id": "dpMlpNJEnRNK"
      },
      "outputs": [],
      "source": [
        "\n",
        "# ####################################################################\n",
        "def calc_determinante(A: list[list[float]]) -> float:\n",
        "    \"\"\"Función que calcula el determinante usando el método de eliminación gaussiana.\n",
        "\n",
        "    ## Parameters\n",
        "    `A`: Matriz cuadrada de tamaño n x n\n",
        "\n",
        "    ## Return\n",
        "    `detA`: Determinante de la matriz A\n",
        "    \"\"\"\n",
        "    n = len(A)\n",
        "    detA = 1\n",
        "\n",
        "    # COpia de la matriz\n",
        "    mat = [row[:] for row in A]\n",
        "\n",
        "    for i in range(n):\n",
        "\n",
        "        # Pivote\n",
        "        pivot = mat[i][i]\n",
        "        if pivot == 0:\n",
        "\n",
        "            for k in range(i+1, n):\n",
        "                if mat[k][i] != 0:\n",
        "                    mat[i], mat[k] = mat[k], mat[i]\n",
        "                    detA *= -1\n",
        "                    pivot = mat[i][i]\n",
        "                    break\n",
        "            else:\n",
        "                return 0\n",
        "\n",
        "\n",
        "        for j in range(i+1, n):\n",
        "            factor = mat[j][i] / pivot\n",
        "            for k in range(i, n):\n",
        "                mat[j][k] -= factor * mat[i][k]\n",
        "\n",
        "    # Producto de la diagonal\n",
        "    for i in range(n):\n",
        "        detA *= mat[i][i]\n",
        "\n",
        "    return detA"
      ]
    },
    {
      "cell_type": "code",
      "source": [
        "A1 = [\n",
        "    [-4, 2, -4, -4, 1, 2, 5, 3, 5, 1],\n",
        "    [1, 0, 4, 3, 0, -2, 3, 0, 1, 5],\n",
        "    [5, 5, -4, 5, -4, 2, 2, 2, 4, 4],\n",
        "    [-1, 3, 4, -1, -4, 0, 5, 0, 0, 5],\n",
        "    [4, 1, 4, 2, 0, 0, 3, -1, 0, 2],\n",
        "    [2, -2, 1, -1, -2, -3, 2, -2, 4, -1],\n",
        "    [3, -2, -3, -2, -1, -3, 5, -1, 5, 0],\n",
        "    [3, 4, -3, 3, -2, 2, -4, -4, 1, 5],\n",
        "    [-4, 0, 3, 3, -3, -2, -2, 0, 5, -4],\n",
        "    [-2, 4, 4, -2, -1, 1, 5, -1, 3, -3],\n",
        "]\n",
        "calc_determinante(A1)"
      ],
      "metadata": {
        "colab": {
          "base_uri": "https://localhost:8080/"
        },
        "id": "MbC7f6T-n49m",
        "outputId": "3a07e8dd-dd1b-487a-fea3-73790829d87c"
      },
      "execution_count": 6,
      "outputs": [
        {
          "output_type": "execute_result",
          "data": {
            "text/plain": [
              "9912776.000000015"
            ]
          },
          "metadata": {},
          "execution_count": 6
        }
      ]
    },
    {
      "cell_type": "code",
      "source": [
        "A2 = [\n",
        "    [2, 2, 4, 5, -2, -3, 2, -2],\n",
        "    [-1, -1, 3, 2, 1, 1, -4, 4],\n",
        "    [2, 5, -3, -3, -2, 2, 5, 3],\n",
        "    [-2, -4, 0, 1, -1, 5, -4, -1],\n",
        "    [1, -2, -1, 5, 5, 2, 1, -2],\n",
        "    [5, 4, 0, 3, 4, -1, -3, -2],\n",
        "    [4, -4, 1, 2, 3, 3, -1, 3],\n",
        "    [-2, 1, -3, 0, 5, 4, 4, -4],\n",
        "]\n",
        "calc_determinante(A2)"
      ],
      "metadata": {
        "colab": {
          "base_uri": "https://localhost:8080/"
        },
        "id": "Qb00AVQ5qwEz",
        "outputId": "68a670ef-51ce-45df-deae-e0969bc26373"
      },
      "execution_count": 7,
      "outputs": [
        {
          "output_type": "execute_result",
          "data": {
            "text/plain": [
              "2341546.000000001"
            ]
          },
          "metadata": {},
          "execution_count": 7
        }
      ]
    },
    {
      "cell_type": "code",
      "source": [],
      "metadata": {
        "id": "wkJS8zfNrTov"
      },
      "execution_count": null,
      "outputs": []
    }
  ]
}